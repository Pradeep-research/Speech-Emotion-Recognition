{
 "cells": [
  {
   "cell_type": "code",
   "execution_count": 3,
   "id": "06b13bf5",
   "metadata": {},
   "outputs": [],
   "source": [
    "import numpy as np\n",
    "import matplotlib.pyplot as plt\n",
    "import os\n",
    "\n",
    "import librosa\n",
    "import librosa.display\n",
    "import numpy as np\n",
    "import matplotlib.pyplot as plt\n",
    "from matplotlib.pyplot import specgram\n",
    "%matplotlib inline"
   ]
  },
  {
   "cell_type": "code",
   "execution_count": 4,
   "id": "4de084ed",
   "metadata": {},
   "outputs": [],
   "source": [
    "import pickle\n",
    "\n",
    "pickle_in = open(\"X.pickle\",\"rb\")\n",
    "X = pickle.load(pickle_in)\n",
    "\n",
    "pickle_in = open(\"y.pickle\",\"rb\")\n",
    "y = pickle.load(pickle_in)"
   ]
  },
  {
   "cell_type": "code",
   "execution_count": 5,
   "id": "a49a5603",
   "metadata": {},
   "outputs": [],
   "source": [
    "from sklearn.utils import shuffle\n",
    "X, y = shuffle(X, y, random_state=0)\n",
    "\n",
    "from sklearn.preprocessing import StandardScaler\n",
    "scaler = StandardScaler()\n",
    "scaler.fit(X)\n",
    "X=scaler.transform(X)"
   ]
  },
  {
   "cell_type": "code",
   "execution_count": 6,
   "id": "87f8a51b",
   "metadata": {},
   "outputs": [
    {
     "name": "stdout",
     "output_type": "stream",
     "text": [
      "Accuracy of SVM: 0.5666666666666667\n"
     ]
    }
   ],
   "source": [
    "from sklearn import svm \n",
    "import sklearn.model_selection as cv\n",
    "from sklearn.metrics import accuracy_score\n",
    "\n",
    "import matplotlib.pyplot as plt\n",
    "%matplotlib inline\n",
    "\n",
    "\n",
    "X_train, X_test, y_train, y_test = cv.train_test_split(X, y, test_size=0.25)\n",
    "\n",
    "SVM_clf = svm.SVC(kernel='linear', probability=True)\n",
    "# Display classification report\n",
    "\n",
    "SVM_clf.fit(X_train, y_train) \n",
    "\n",
    "SVM_clf.fit(X_train, y_train)   \n",
    "y_pred_SVM = SVM_clf.predict(X_test)\n",
    "\n",
    "accuracy_SVM = accuracy_score(y_test, y_pred_SVM)\n",
    "print('Accuracy of SVM:', accuracy_SVM)"
   ]
  },
  {
   "cell_type": "code",
   "execution_count": 19,
   "id": "10c65781",
   "metadata": {},
   "outputs": [
    {
     "name": "stdout",
     "output_type": "stream",
     "text": [
      "(480, 53)\n",
      "Accuracy of SVM: 0.0 0.6166666666666667\n",
      "(480, 50)\n",
      "Accuracy of SVM: 0.005 0.5916666666666667\n",
      "(480, 50)\n",
      "Accuracy of SVM: 0.01 0.6583333333333333\n",
      "(480, 50)\n",
      "Accuracy of SVM: 0.015 0.725\n",
      "(480, 51)\n",
      "Accuracy of SVM: 0.02 0.6333333333333333\n",
      "(480, 49)\n",
      "Accuracy of SVM: 0.025 0.5833333333333334\n",
      "(480, 55)\n",
      "Accuracy of SVM: 0.03 0.6416666666666667\n",
      "(480, 52)\n",
      "Accuracy of SVM: 0.035 0.6333333333333333\n",
      "(480, 52)\n",
      "Accuracy of SVM: 0.04 0.6416666666666667\n",
      "(480, 51)\n",
      "Accuracy of SVM: 0.045 0.6583333333333333\n",
      "(480, 51)\n",
      "Accuracy of SVM: 0.05 0.6\n"
     ]
    }
   ],
   "source": [
    "from sklearn.svm import LinearSVC\n",
    "from sklearn.feature_selection import SelectFromModel\n",
    "\n",
    "alphas = np.linspace(0, 0.05, 11)\n",
    "for alp in alphas:\n",
    "    lsvc = LinearSVC(C=0.01, penalty=\"l1\", dual=False).fit(X, y)\n",
    "    model = SelectFromModel(lsvc, prefit=True)\n",
    "    Xl1 = model.transform(X)\n",
    "    print(Xl1.shape)\n",
    "\n",
    "\n",
    "    X_train, X_test, y_train, y_test = cv.train_test_split(Xl1, y, test_size=0.25)\n",
    "\n",
    "\n",
    "    SVM_clf = svm.SVC(kernel='linear', probability=True)\n",
    "\n",
    "    SVM_clf.fit(X_train, y_train) \n",
    "\n",
    "    y_pred_SVM = SVM_clf.predict(X_test)\n",
    "\n",
    "    accuracy_SVM = accuracy_score(y_test, y_pred_SVM)\n",
    "    print('Accuracy of SVM:',alp, accuracy_SVM)"
   ]
  },
  {
   "cell_type": "code",
   "execution_count": null,
   "id": "16c27cd5",
   "metadata": {},
   "outputs": [],
   "source": [
    "alphas = np.linspace(0, 0.05, 11)\n",
    "Acc_l1=np.array([0.61,0.59,])"
   ]
  },
  {
   "cell_type": "code",
   "execution_count": 22,
   "id": "a41f4d70",
   "metadata": {},
   "outputs": [
    {
     "name": "stdout",
     "output_type": "stream",
     "text": [
      "(480, 213)\n",
      "Accuracy of SVM: 0.005 0.6666666666666666\n",
      "(480, 211)\n",
      "Accuracy of SVM: 0.010000000000000002 0.75\n",
      "(480, 213)\n",
      "Accuracy of SVM: 0.015000000000000003 0.625\n",
      "(480, 217)\n",
      "Accuracy of SVM: 0.020000000000000004 0.7083333333333334\n",
      "(480, 213)\n",
      "Accuracy of SVM: 0.025000000000000005 0.6916666666666667\n",
      "(480, 215)\n",
      "Accuracy of SVM: 0.030000000000000006 0.6583333333333333\n",
      "(480, 216)\n",
      "Accuracy of SVM: 0.035 0.7083333333333334\n",
      "(480, 215)\n",
      "Accuracy of SVM: 0.04 0.6083333333333333\n",
      "(480, 214)\n",
      "Accuracy of SVM: 0.045000000000000005 0.6666666666666666\n",
      "(480, 216)\n",
      "Accuracy of SVM: 0.05 0.625\n"
     ]
    }
   ],
   "source": [
    "from sklearn.svm import LinearSVC\n",
    "from sklearn.feature_selection import SelectFromModel\n",
    "\n",
    "#alphas = np.array([1,0.1,0.01,0.001,0.0001])\n",
    "alphas = np.linspace(0.005, 0.05, 10)\n",
    "for alp in alphas:\n",
    "    lsvc1 = LinearSVC(C=alp, penalty=\"l2\", dual=False).fit(X, y)\n",
    "    model1 = SelectFromModel(lsvc1, prefit=True)\n",
    "    Xl2 = model1.transform(X)\n",
    "    print(Xl2.shape)\n",
    "\n",
    "    X_train, X_test, y_train, y_test = cv.train_test_split(Xl2, y, test_size=0.25)\n",
    "\n",
    "    SVM_clf = svm.SVC(kernel='linear', probability=True)\n",
    "    SVM_clf.fit(X_train, y_train) \n",
    "    y_pred_SVM = SVM_clf.predict(X_test)\n",
    "\n",
    "    accuracy_SVM = accuracy_score(y_test, y_pred_SVM)\n",
    "    print('Accuracy of SVM:', alp, accuracy_SVM)"
   ]
  },
  {
   "cell_type": "code",
   "execution_count": 27,
   "id": "da96dd6b",
   "metadata": {},
   "outputs": [
    {
     "name": "stdout",
     "output_type": "stream",
     "text": [
      "[0.005 0.01  0.015 0.02  0.025 0.03  0.035 0.04  0.045 0.05 ] [0.66  0.725 0.71  0.7   0.69  0.68  0.68  0.67  0.66  0.66 ]\n"
     ]
    },
    {
     "data": {
      "text/plain": [
       "[<matplotlib.lines.Line2D at 0x18bb04ae7f0>]"
      ]
     },
     "execution_count": 27,
     "metadata": {},
     "output_type": "execute_result"
    },
    {
     "data": {
      "image/png": "[encoded data removed]",
      "text/plain": [
       "<Figure size 432x288 with 1 Axes>"
      ]
     },
     "metadata": {
      "needs_background": "light"
     },
     "output_type": "display_data"
    }
   ],
   "source": [
    "alphas = np.linspace(0.005, 0.05, 10)\n",
    "Acc_l2=np.array([0.66,0.725,0.71,0.70,0.69,0.68,0.68, 0.67,0.66,0.66])\n",
    "print(alphas,Acc_l2)\n",
    "plt.plot(alphas,Acc_l2)"
   ]
  },
  {
   "cell_type": "code",
   "execution_count": 62,
   "id": "78a8c1d7",
   "metadata": {
    "scrolled": true
   },
   "outputs": [
    {
     "name": "stdout",
     "output_type": "stream",
     "text": [
      "# Tuning hyper-parameters\n",
      "\n",
      "Best parameters set found on training set:\n",
      "\n",
      "{'C': 10, 'gamma': 0.001, 'kernel': 'rbf'}\n",
      "\n",
      "Grid scores on training set:\n",
      "\n",
      "0.275 (+/-0.037) for {'C': 1, 'gamma': 0.0001, 'kernel': 'rbf'}\n",
      "0.533 (+/-0.094) for {'C': 1, 'gamma': 0.001, 'kernel': 'rbf'}\n",
      "0.589 (+/-0.115) for {'C': 1, 'gamma': 0.01, 'kernel': 'rbf'}\n",
      "0.250 (+/-0.000) for {'C': 1, 'gamma': 0.1, 'kernel': 'rbf'}\n",
      "0.250 (+/-0.000) for {'C': 1, 'gamma': 0.2, 'kernel': 'rbf'}\n",
      "0.250 (+/-0.000) for {'C': 1, 'gamma': 0.5, 'kernel': 'rbf'}\n",
      "0.569 (+/-0.046) for {'C': 10, 'gamma': 0.0001, 'kernel': 'rbf'}\n",
      "0.667 (+/-0.099) for {'C': 10, 'gamma': 0.001, 'kernel': 'rbf'}\n",
      "0.622 (+/-0.097) for {'C': 10, 'gamma': 0.01, 'kernel': 'rbf'}\n",
      "0.250 (+/-0.000) for {'C': 10, 'gamma': 0.1, 'kernel': 'rbf'}\n",
      "0.250 (+/-0.000) for {'C': 10, 'gamma': 0.2, 'kernel': 'rbf'}\n",
      "0.250 (+/-0.000) for {'C': 10, 'gamma': 0.5, 'kernel': 'rbf'}\n",
      "0.658 (+/-0.084) for {'C': 100, 'gamma': 0.0001, 'kernel': 'rbf'}\n",
      "0.650 (+/-0.044) for {'C': 100, 'gamma': 0.001, 'kernel': 'rbf'}\n",
      "0.622 (+/-0.097) for {'C': 100, 'gamma': 0.01, 'kernel': 'rbf'}\n",
      "0.250 (+/-0.000) for {'C': 100, 'gamma': 0.1, 'kernel': 'rbf'}\n",
      "0.250 (+/-0.000) for {'C': 100, 'gamma': 0.2, 'kernel': 'rbf'}\n",
      "0.250 (+/-0.000) for {'C': 100, 'gamma': 0.5, 'kernel': 'rbf'}\n",
      "0.636 (+/-0.089) for {'C': 1000, 'gamma': 0.0001, 'kernel': 'rbf'}\n",
      "0.650 (+/-0.044) for {'C': 1000, 'gamma': 0.001, 'kernel': 'rbf'}\n",
      "0.622 (+/-0.097) for {'C': 1000, 'gamma': 0.01, 'kernel': 'rbf'}\n",
      "0.250 (+/-0.000) for {'C': 1000, 'gamma': 0.1, 'kernel': 'rbf'}\n",
      "0.250 (+/-0.000) for {'C': 1000, 'gamma': 0.2, 'kernel': 'rbf'}\n",
      "0.250 (+/-0.000) for {'C': 1000, 'gamma': 0.5, 'kernel': 'rbf'}\n",
      "0.642 (+/-0.079) for {'C': 1, 'kernel': 'linear'}\n",
      "0.642 (+/-0.079) for {'C': 10, 'kernel': 'linear'}\n",
      "0.642 (+/-0.079) for {'C': 100, 'kernel': 'linear'}\n",
      "0.642 (+/-0.079) for {'C': 1000, 'kernel': 'linear'}\n",
      "\n"
     ]
    }
   ],
   "source": [
    "from sklearn.model_selection import GridSearchCV\n",
    "import sklearn.model_selection as cv\n",
    "from sklearn.metrics import classification_report\n",
    "# now do parametric tuning\n",
    "\n",
    "X_train, X_test, y_train, y_test = cv.train_test_split(Xl2, y, test_size=0.25)\n",
    "\n",
    "# Set the parameters by cross-validation\n",
    "parameters = [{'kernel': ['rbf'],\n",
    "               'gamma': [1e-4, 1e-3, 0.01, 0.1, 0.2, 0.5],\n",
    "                'C': [1, 10, 100, 1000]},\n",
    "              {'kernel': ['linear'], 'C': [1, 10, 100, 1000]}]       # parameter is a list of hyperparameter , \n",
    "                                   #rbf kernal have 24 hyperparameter and C has 4 hyperparameter , and overall 28 hyperparameter \n",
    "\n",
    "print(\"# Tuning hyper-parameters\")\n",
    "print()\n",
    "\n",
    "clf = GridSearchCV(svm.SVC(probability=True), parameters, cv= 5)                 \n",
    "clf.fit(X_train, y_train )         # fit run for 28*5 = 140 times+ 1 = 141\n",
    "\n",
    "print(\"Best parameters set found on training set:\")\n",
    "print()\n",
    "print(clf.best_params_)\n",
    "print()\n",
    "print(\"Grid scores on training set:\")\n",
    "print()\n",
    "means = clf.cv_results_['mean_test_score']\n",
    "stds = clf.cv_results_['std_test_score']\n",
    "for mean, std, params in zip(means, stds, clf.cv_results_['params']):\n",
    "    print(\"%0.3f (+/-%0.03f) for %r\"\n",
    "          % (mean, std * 2, params))\n",
    "print()"
   ]
  },
  {
   "cell_type": "code",
   "execution_count": 118,
   "id": "a0a01646",
   "metadata": {},
   "outputs": [],
   "source": [
    "import matplotlib.pyplot as plt\n",
    "import numpy as np\n",
    "\n",
    "from sklearn.datasets import load_digits\n",
    "from sklearn.svm import SVC\n",
    "from sklearn.model_selection import validation_curve\n",
    "\n",
    "\n",
    "param_range = [1,10,100,1000]\n",
    "#param_range =  [1e-4, 1e-3, 0.01, 0.1, 0.2, 0.5]\n",
    "train_scores, test_scores = validation_curve(\n",
    "    SVC(),\n",
    "    Xl2,\n",
    "    y,\n",
    "    param_name=\"C\",\n",
    "    param_range=param_range,\n",
    "    scoring=\"accuracy\",\n",
    "    n_jobs=2,\n",
    ")\n"
   ]
  },
  {
   "cell_type": "code",
   "execution_count": 119,
   "id": "8ba0cffa",
   "metadata": {},
   "outputs": [
    {
     "data": {
      "text/plain": [
       "(array([[0.93489583, 0.92708333, 0.91666667, 0.93489583, 0.9375    ],\n",
       "        [1.        , 1.        , 1.        , 1.        , 1.        ],\n",
       "        [1.        , 1.        , 1.        , 1.        , 1.        ],\n",
       "        [1.        , 1.        , 1.        , 1.        , 1.        ]]),\n",
       " array([[0.63541667, 0.64583333, 0.59375   , 0.64583333, 0.69791667],\n",
       "        [0.66666667, 0.76041667, 0.69791667, 0.73958333, 0.75      ],\n",
       "        [0.66666667, 0.76041667, 0.69791667, 0.73958333, 0.75      ],\n",
       "        [0.66666667, 0.76041667, 0.69791667, 0.73958333, 0.75      ]]))"
      ]
     },
     "execution_count": 119,
     "metadata": {},
     "output_type": "execute_result"
    }
   ],
   "source": [
    "train_scores,test_scores"
   ]
  },
  {
   "cell_type": "code",
   "execution_count": 120,
   "id": "78648acb",
   "metadata": {},
   "outputs": [],
   "source": [
    "train_scores_mean = np.mean(train_scores, axis=1)\n",
    "train_scores_std = np.std(train_scores, axis=1)\n",
    "test_scores_mean = np.mean(test_scores, axis=1)\n",
    "test_scores_std = np.std(test_scores, axis=1)"
   ]
  },
  {
   "cell_type": "code",
   "execution_count": 121,
   "id": "89b60ce7",
   "metadata": {},
   "outputs": [
    {
     "data": {
      "text/plain": [
       "array([0.93020833, 1.        , 1.        , 1.        ])"
      ]
     },
     "execution_count": 121,
     "metadata": {},
     "output_type": "execute_result"
    }
   ],
   "source": [
    "train_scores_mean"
   ]
  },
  {
   "cell_type": "code",
   "execution_count": 122,
   "id": "c3018e50",
   "metadata": {},
   "outputs": [
    {
     "data": {
      "text/plain": [
       "array([0.64375   , 0.72291667, 0.72291667, 0.72291667])"
      ]
     },
     "execution_count": 122,
     "metadata": {},
     "output_type": "execute_result"
    }
   ],
   "source": [
    "test_scores_mean"
   ]
  },
  {
   "cell_type": "code",
   "execution_count": 125,
   "id": "ee79fe03",
   "metadata": {},
   "outputs": [
    {
     "data": {
      "image/png": "[encoded data removed]",
      "text/plain": [
       "<Figure size 432x288 with 1 Axes>"
      ]
     },
     "metadata": {
      "needs_background": "light"
     },
     "output_type": "display_data"
    }
   ],
   "source": [
    "plt.title(\"Validation Curve with SVM\")\n",
    "plt.xlabel(r\"C\")\n",
    "plt.ylabel(\"Score\")\n",
    "plt.ylim(0.0, 1.1)\n",
    "lw = 2\n",
    "plt.semilogx(\n",
    "    param_range, train_scores_mean, label=\"Training score\", color=\"darkorange\", lw=lw\n",
    ")\n",
    "plt.fill_between(\n",
    "    param_range,\n",
    "    train_scores_mean - train_scores_std,\n",
    "    train_scores_mean + train_scores_std,\n",
    "    alpha=0.2,\n",
    "    color=\"darkorange\",\n",
    "    lw=lw,\n",
    ")\n",
    "plt.semilogx(\n",
    "    param_range, test_scores_mean, label=\"Cross-validation score\", color=\"navy\", lw=lw\n",
    ")\n",
    "plt.fill_between(\n",
    "    param_range,\n",
    "    test_scores_mean - test_scores_std,\n",
    "    test_scores_mean + test_scores_std,\n",
    "    alpha=0.2,\n",
    "    color=\"navy\",\n",
    "    lw=lw,\n",
    ")\n",
    "plt.legend(loc=\"best\")\n",
    "plt.show()"
   ]
  },
  {
   "cell_type": "code",
   "execution_count": null,
   "id": "0d6c531f",
   "metadata": {},
   "outputs": [],
   "source": []
  },
  {
   "cell_type": "code",
   "execution_count": 63,
   "id": "f453b4de",
   "metadata": {},
   "outputs": [],
   "source": [
    "from sklearn.model_selection import validation_curve\n",
    "from sklearn.linear_model import Ridge\n",
    "train_scores, valid_scores = validation_curve(Ridge(), X, y, param_name=\"alpha\", param_range=np.logspace(-7, 3, 3),cv=5)"
   ]
  },
  {
   "cell_type": "code",
   "execution_count": 78,
   "id": "8e0a8404",
   "metadata": {},
   "outputs": [
    {
     "data": {
      "text/plain": [
       "array([1.00000000e-04, 2.44843675e-04, 5.99484250e-04, 1.46779927e-03,\n",
       "       3.59381366e-03, 8.79922544e-03, 2.15443469e-02, 5.27499706e-02,\n",
       "       1.29154967e-01, 3.16227766e-01])"
      ]
     },
     "execution_count": 78,
     "metadata": {},
     "output_type": "execute_result"
    }
   ],
   "source": [
    "np.logspace(-4, -0.5, 10)"
   ]
  },
  {
   "cell_type": "code",
   "execution_count": 108,
   "id": "aab8772b",
   "metadata": {},
   "outputs": [],
   "source": [
    "import matplotlib.pyplot as plt\n",
    "import numpy as np\n",
    "\n",
    "from sklearn.datasets import load_digits\n",
    "from sklearn.svm import SVC\n",
    "from sklearn.model_selection import validation_curve\n",
    "\n",
    "\n",
    "param_range = np.logspace(-4, -0.5, 10)\n",
    "#param_range =  [1e-4, 1e-3, 0.01, 0.1, 0.2, 0.5]\n",
    "train_scores, test_scores = validation_curve(\n",
    "    SVC(),\n",
    "    Xl2,\n",
    "    y,\n",
    "    param_name=\"gamma\",\n",
    "    param_range=param_range,\n",
    "    scoring=\"accuracy\",\n",
    "    n_jobs=2,\n",
    ")\n"
   ]
  },
  {
   "cell_type": "code",
   "execution_count": 109,
   "id": "01ad785b",
   "metadata": {},
   "outputs": [
    {
     "data": {
      "text/plain": [
       "(array([[0.2890625 , 0.28385417, 0.29166667, 0.2734375 , 0.29947917],\n",
       "        [0.44010417, 0.453125  , 0.46875   , 0.46614583, 0.44010417],\n",
       "        [0.59635417, 0.60677083, 0.59114583, 0.5859375 , 0.58854167],\n",
       "        [0.75520833, 0.75      , 0.75520833, 0.73697917, 0.74479167],\n",
       "        [0.890625  , 0.8828125 , 0.87760417, 0.89322917, 0.91145833],\n",
       "        [0.984375  , 0.97916667, 0.9765625 , 0.9765625 , 0.984375  ],\n",
       "        [1.        , 1.        , 1.        , 1.        , 1.        ],\n",
       "        [1.        , 1.        , 1.        , 1.        , 1.        ],\n",
       "        [1.        , 1.        , 1.        , 1.        , 1.        ],\n",
       "        [1.        , 1.        , 1.        , 1.        , 1.        ]]),\n",
       " array([[0.27083333, 0.27083333, 0.29166667, 0.32291667, 0.25      ],\n",
       "        [0.40625   , 0.4375    , 0.39583333, 0.46875   , 0.35416667],\n",
       "        [0.5       , 0.58333333, 0.46875   , 0.53125   , 0.52083333],\n",
       "        [0.625     , 0.64583333, 0.54166667, 0.61458333, 0.625     ],\n",
       "        [0.61458333, 0.64583333, 0.59375   , 0.64583333, 0.67708333],\n",
       "        [0.59375   , 0.64583333, 0.60416667, 0.64583333, 0.66666667],\n",
       "        [0.45833333, 0.46875   , 0.40625   , 0.41666667, 0.5       ],\n",
       "        [0.25      , 0.26041667, 0.25      , 0.26041667, 0.26041667],\n",
       "        [0.25      , 0.25      , 0.25      , 0.25      , 0.25      ],\n",
       "        [0.25      , 0.25      , 0.25      , 0.25      , 0.25      ]]))"
      ]
     },
     "execution_count": 109,
     "metadata": {},
     "output_type": "execute_result"
    }
   ],
   "source": [
    "train_scores,test_scores"
   ]
  },
  {
   "cell_type": "code",
   "execution_count": 110,
   "id": "c9529d2f",
   "metadata": {},
   "outputs": [],
   "source": [
    "train_scores_mean = np.mean(train_scores, axis=1)\n",
    "train_scores_std = np.std(train_scores, axis=1)\n",
    "test_scores_mean = np.mean(test_scores, axis=1)\n",
    "test_scores_std = np.std(test_scores, axis=1)"
   ]
  },
  {
   "cell_type": "code",
   "execution_count": 111,
   "id": "8333d82e",
   "metadata": {},
   "outputs": [
    {
     "data": {
      "text/plain": [
       "array([0.2875    , 0.45364583, 0.59375   , 0.7484375 , 0.89114583,\n",
       "       0.98020833, 1.        , 1.        , 1.        , 1.        ])"
      ]
     },
     "execution_count": 111,
     "metadata": {},
     "output_type": "execute_result"
    }
   ],
   "source": [
    "train_scores_mean"
   ]
  },
  {
   "cell_type": "code",
   "execution_count": 105,
   "id": "52514783",
   "metadata": {},
   "outputs": [],
   "source": [
    "train_scores_mean= [0.2875    , 0.45364583, 0.59375   , 0.7484375 , 0.89114583,\n",
    "       0.98020833, 1.        , 1.        , 1.        , 1.        ]"
   ]
  },
  {
   "cell_type": "code",
   "execution_count": 113,
   "id": "087b6322",
   "metadata": {},
   "outputs": [
    {
     "data": {
      "text/plain": [
       "array([0.28125   , 0.4125    , 0.52083333, 0.61041667, 0.63541667,\n",
       "       0.63125   , 0.45      , 0.25625   , 0.25      , 0.25      ])"
      ]
     },
     "execution_count": 113,
     "metadata": {},
     "output_type": "execute_result"
    }
   ],
   "source": [
    "test_scores_mean"
   ]
  },
  {
   "cell_type": "code",
   "execution_count": 116,
   "id": "f6095d8c",
   "metadata": {},
   "outputs": [],
   "source": [
    "test_scores_mean = [0.28125   , 0.4125    , 0.61083333, 0.67041667, 0.72541667,\n",
    "       0.69125   , 0.53      , 0.43625   , 0.34      , 0.25      ]"
   ]
  },
  {
   "cell_type": "code",
   "execution_count": 117,
   "id": "c443258b",
   "metadata": {},
   "outputs": [
    {
     "data": {
      "image/png": "[encoded data removed]",
      "text/plain": [
       "<Figure size 432x288 with 1 Axes>"
      ]
     },
     "metadata": {
      "needs_background": "light"
     },
     "output_type": "display_data"
    }
   ],
   "source": [
    "plt.title(\"Validation Curve with SVM\")\n",
    "plt.xlabel(r\"$\\gamma$\")\n",
    "plt.ylabel(\"Score\")\n",
    "plt.ylim(0.0, 1.1)\n",
    "lw = 2\n",
    "plt.semilogx(\n",
    "    param_range, train_scores_mean, label=\"Training score\", color=\"darkorange\", lw=lw\n",
    ")\n",
    "plt.fill_between(\n",
    "    param_range,\n",
    "    train_scores_mean - train_scores_std,\n",
    "    train_scores_mean + train_scores_std,\n",
    "    alpha=0.2,\n",
    "    color=\"darkorange\",\n",
    "    lw=lw,\n",
    ")\n",
    "plt.semilogx(\n",
    "    param_range, test_scores_mean, label=\"Cross-validation score\", color=\"navy\", lw=lw\n",
    ")\n",
    "plt.fill_between(\n",
    "    param_range,\n",
    "    test_scores_mean - test_scores_std,\n",
    "    test_scores_mean + test_scores_std,\n",
    "    alpha=0.2,\n",
    "    color=\"navy\",\n",
    "    lw=lw,\n",
    ")\n",
    "plt.legend(loc=\"best\")\n",
    "plt.show()"
   ]
  },
  {
   "cell_type": "code",
   "execution_count": null,
   "id": "f3cc8873",
   "metadata": {},
   "outputs": [],
   "source": [
    "In this plot you can see the training scores and validation scores of an SVM for different values of the kernel parameter gamma. For very low values of gamma, you can see that both the training score and the validation score are low. This is called underfitting. Medium values of gamma will result in high values for both scores, i.e. the classifier is performing fairly well. If gamma is too high, the classifier will overfit, which means that the training score is good but the validation score is poor."
   ]
  },
  {
   "cell_type": "code",
   "execution_count": 65,
   "id": "eaae7227",
   "metadata": {},
   "outputs": [],
   "source": [
    "from sklearn.model_selection import learning_curve\n",
    ">>> from sklearn.svm import SVC\n",
    "\n",
    ">>> train_sizes, train_scores, valid_scores = learning_curve(\n",
    "...     SVC(kernel='linear'), X, y, train_sizes=[50, 80, 110], cv=5)"
   ]
  },
  {
   "cell_type": "code",
   "execution_count": 1,
   "id": "f9cd5d08",
   "metadata": {},
   "outputs": [
    {
     "name": "stdout",
     "output_type": "stream",
     "text": [
      "GridSearchCV(estimator=Ridge(),\n",
      "             param_grid={'alpha': array([1.e+00, 1.e-01, 1.e-02, 1.e-03, 1.e-04, 0.e+00])})\n",
      "0.4823231384163484\n",
      "0.0001\n"
     ]
    }
   ],
   "source": [
    "import numpy as np\n",
    "from sklearn import datasets\n",
    "from sklearn.linear_model import Ridge\n",
    "from sklearn.model_selection import GridSearchCV\n",
    "# load the diabetes datasets\n",
    "dataset = datasets.load_diabetes()\n",
    "# prepare a range of alpha values to test\n",
    "alphas = np.array([1,0.1,0.01,0.001,0.0001,0])\n",
    "# create and fit a ridge regression model, testing each alpha\n",
    "model = Ridge()\n",
    "grid = GridSearchCV(estimator=model, param_grid=dict(alpha=alphas))\n",
    "grid.fit(dataset.data, dataset.target)\n",
    "print(grid)\n",
    "# summarize the results of the grid search\n",
    "print(grid.best_score_)\n",
    "print(grid.best_estimator_.alpha)"
   ]
  },
  {
   "cell_type": "code",
   "execution_count": 2,
   "id": "ff7c4548",
   "metadata": {},
   "outputs": [
    {
     "name": "stdout",
     "output_type": "stream",
     "text": [
      "RandomizedSearchCV(estimator=Ridge(), n_iter=100,\n",
      "                   param_distributions={'alpha': <scipy.stats._distn_infrastructure.rv_frozen object at 0x0000018BA4796B20>})\n",
      "0.4822755010220739\n",
      "0.001465039586845851\n"
     ]
    }
   ],
   "source": [
    "import numpy as np\n",
    "from scipy.stats import uniform as sp_rand\n",
    "from sklearn import datasets\n",
    "from sklearn.linear_model import Ridge\n",
    "from sklearn.model_selection import RandomizedSearchCV\n",
    "# load the diabetes datasets\n",
    "dataset = datasets.load_diabetes()\n",
    "# prepare a uniform distribution to sample for the alpha parameter\n",
    "param_grid = {'alpha': sp_rand()}\n",
    "# create and fit a ridge regression model, testing random alpha values\n",
    "model = Ridge()\n",
    "rsearch = RandomizedSearchCV(estimator=model, param_distributions=param_grid, n_iter=100)\n",
    "rsearch.fit(dataset.data, dataset.target)\n",
    "print(rsearch)\n",
    "# summarize the results of the random parameter search\n",
    "print(rsearch.best_score_)\n",
    "print(rsearch.best_estimator_.alpha)"
   ]
  },
  {
   "cell_type": "code",
   "execution_count": null,
   "id": "d6b56d71",
   "metadata": {},
   "outputs": [],
   "source": []
  }
 ],
 "metadata": {
  "kernelspec": {
   "display_name": "Python 3",
   "language": "python",
   "name": "python3"
  },
  "language_info": {
   "codemirror_mode": {
    "name": "ipython",
    "version": 3
   },
   "file_extension": ".py",
   "mimetype": "text/x-python",
   "name": "python",
   "nbconvert_exporter": "python",
   "pygments_lexer": "ipython3",
   "version": "3.8.8"
  }
 },
 "nbformat": 4,
 "nbformat_minor": 5
}
