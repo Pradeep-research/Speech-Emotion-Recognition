{
 "cells": [
  {
   "cell_type": "code",
   "execution_count": 48,
   "id": "e631dc79",
   "metadata": {},
   "outputs": [],
   "source": [
    "import numpy as np\n",
    "import matplotlib.pyplot as plt\n",
    "import os\n",
    "\n",
    "import librosa\n",
    "import librosa.display\n",
    "import numpy as np\n",
    "import matplotlib.pyplot as plt\n",
    "from matplotlib.pyplot import specgram\n",
    "%matplotlib inline\n",
    "\n",
    "from tqdm import tqdm\n",
    "\n",
    "\n",
    "DATADIR = \"AudioDataM\"\n",
    "\n",
    "CATEGORIES = [\"anger\", \"disgust\", \"fear\", \"neutral\", \"happy\",\"sad\",\"surprise\"]"
   ]
  },
  {
   "cell_type": "code",
   "execution_count": 123,
   "id": "7fb39f1b",
   "metadata": {},
   "outputs": [
    {
     "data": {
      "text/plain": [
       "(3, 1)"
      ]
     },
     "execution_count": 123,
     "metadata": {},
     "output_type": "execute_result"
    }
   ],
   "source": [
    "x1=np.random.randint([10])\n",
    "x2=np.random.randint([10])\n",
    "x3=np.random.randint([10])\n",
    "x4=np.vstack([x1,x2,x3])\n",
    "x4.shape\n",
    "np.hstack([mfccs,chroma,mel,contrast])"
   ]
  },
  {
   "cell_type": "code",
   "execution_count": 137,
   "id": "ba3db12a",
   "metadata": {},
   "outputs": [],
   "source": [
    "import numpy\n",
    "PARAM_TYPE = numpy.float32\n",
    "def compute_delta(features,\n",
    "                  win=3,\n",
    "                  method='filter',\n",
    "                  filt=numpy.array([.25, .5, .25, 0, -.25, -.5, -.25])):\n",
    "    \"\"\"features is a 2D-ndarray  each row of features is a a frame\n",
    "    \n",
    "    :param features: the feature frames to compute the delta coefficients\n",
    "    :param win: parameter that set the length of the computation window.\n",
    "            The size of the window is (win x 2) + 1\n",
    "    :param method: method used to compute the delta coefficients\n",
    "        can be diff or filter\n",
    "    :param filt: definition of the filter to use in \"filter\" mode, default one\n",
    "        is similar to SPRO4:  filt=numpy.array([.2, .1, 0, -.1, -.2])\n",
    "        \n",
    "    :return: the delta coefficients computed on the original features.\n",
    "    \"\"\"\n",
    "    # First and last features are appended to the begining and the end of the \n",
    "    # stream to avoid border effect\n",
    "    x = numpy.zeros((features.shape[0] + 2 * win, features.shape[1]), dtype=PARAM_TYPE)\n",
    "    x[:win, :] = features[0, :]\n",
    "    x[win:-win, :] = features\n",
    "    x[-win:, :] = features[-1, :]\n",
    "    \n",
    "    delta = numpy.zeros(x.shape, dtype=PARAM_TYPE)\n",
    "\n",
    "    if method == 'diff':\n",
    "        filt = numpy.zeros(2 * win + 1, dtype=PARAM_TYPE)\n",
    "        filt[0] = -1\n",
    "        filt[-1] = 1\n",
    "\n",
    "    for i in range(features.shape[1]):\n",
    "        delta[:, i] = numpy.convolve(features[:, i], filt)\n",
    "\n",
    "    return delta[win:-win, :]\n",
    "\n",
    "def shifted_delta_cepstral(cep, d=1, p=3, k=7):\n",
    "    \"\"\"\n",
    "    Compute the Shifted-Delta-Cepstral features for language identification\n",
    "    \n",
    "    :param cep: matrix of feature, 1 vector per line\n",
    "    :param d: represents the time advance and delay for the delta computation\n",
    "    :param k: number of delta-cepstral blocks whose delta-cepstral \n",
    "       coefficients are stacked to form the final feature vector\n",
    "    :param p: time shift between consecutive blocks.\n",
    "    \n",
    "    return: cepstral coefficient concatenated with shifted deltas\n",
    "    \"\"\"\n",
    "\n",
    "    y = numpy.r_[numpy.resize(cep[0, :], (d, cep.shape[1])),\n",
    "                 cep,\n",
    "                 numpy.resize(cep[-1, :], (k * 3 + d, cep.shape[1]))]\n",
    "\n",
    "    delta = compute_delta(y, win=d, method='diff')\n",
    "    sdc = numpy.empty((cep.shape[0], cep.shape[1] * k))\n",
    "\n",
    "    idx = numpy.zeros(delta.shape[0], dtype='bool')\n",
    "    for ii in range(k):\n",
    "        idx[d + ii * p] = True\n",
    "    for ff in range(len(cep)):\n",
    "        sdc[ff, :] = delta[idx, :].reshape(1, -1)\n",
    "        idx = numpy.roll(idx, 1)\n",
    "    return numpy.hstack((cep, sdc))"
   ]
  },
  {
   "cell_type": "code",
   "execution_count": 124,
   "id": "54349a5b",
   "metadata": {},
   "outputs": [],
   "source": [
    "training_data = []\n",
    "\n",
    "def create_training_data():\n",
    "    for category in CATEGORIES:  # \n",
    "\n",
    "        xx=os.path.join(DATADIR,category)\n",
    "        class_num = CATEGORIES.index(category)  # get the classification  \n",
    "        yy= next(os.walk('AudioDataM/anger/'))[1]\n",
    "        for arr in yy:\n",
    "            zz=os.path.join(xx,arr)\n",
    "            for img in os.listdir(zz):\n",
    "                #print(os.path.join(zz,img))\n",
    "                try:\n",
    "                    X, sample_rate = librosa.load(os.path.join(zz,img))  # convert to array\n",
    "                    stft = np.abs(librosa.stft(X))\n",
    "                    mfccs = np.mean(librosa.feature.mfcc(y=X, sr=sample_rate, n_mfcc=40).T,axis=0)\n",
    "                    mfcc=librosa.feature.mfcc(y=X, sr=sample_rate, n_mfcc=40).T\n",
    "                    sdc=np.mean(shifted_delta_cepstral(mfcc),axis=0)\n",
    "                    mel = np.mean(librosa.feature.melspectrogram(X, sr=sample_rate).T,axis=0)\n",
    "                    features=np.hstack([mfccs,sdc,mel])\n",
    "                    #print(X.shape)\n",
    "                    training_data.append([features, class_num])  # add this to our training_data\n",
    "                except Exception as e:  # in the interest in keeping the output clean...\n",
    "                    pass"
   ]
  },
  {
   "cell_type": "code",
   "execution_count": 125,
   "id": "b1f0037f",
   "metadata": {},
   "outputs": [],
   "source": [
    "create_training_data()"
   ]
  },
  {
   "cell_type": "code",
   "execution_count": 127,
   "id": "29d3fa34",
   "metadata": {},
   "outputs": [],
   "source": [
    "import random\n",
    "\n",
    "random.shuffle(training_data)"
   ]
  },
  {
   "cell_type": "code",
   "execution_count": 129,
   "id": "bc5aee34",
   "metadata": {},
   "outputs": [],
   "source": [
    "X = []\n",
    "y = []\n",
    "\n",
    "for features,label in training_data:\n",
    "    X.append(features)\n",
    "    y.append(label)"
   ]
  },
  {
   "cell_type": "code",
   "execution_count": 131,
   "id": "747f0d29",
   "metadata": {},
   "outputs": [],
   "source": [
    "import pickle\n",
    "\n",
    "pickle_out = open(\"X.pickle\",\"wb\")\n",
    "pickle.dump(X, pickle_out)\n",
    "pickle_out.close()\n",
    "\n",
    "pickle_out = open(\"y.pickle\",\"wb\")\n",
    "pickle.dump(y, pickle_out)\n",
    "pickle_out.close()"
   ]
  },
  {
   "cell_type": "code",
   "execution_count": 135,
   "id": "e119d19e",
   "metadata": {},
   "outputs": [
    {
     "data": {
      "text/plain": [
       "((480, 488), (480,))"
      ]
     },
     "execution_count": 135,
     "metadata": {},
     "output_type": "execute_result"
    }
   ],
   "source": [
    "X=np.array(X)\n",
    "y=np.array(y)\n",
    "X.shape,y.shape"
   ]
  },
  {
   "cell_type": "code",
   "execution_count": 136,
   "id": "f1997886",
   "metadata": {},
   "outputs": [
    {
     "data": {
      "text/plain": [
       "array([3, 5, 0, 3, 0, 5, 3, 1, 5, 4, 0, 2, 2, 3, 0, 1, 1, 3, 5, 1, 3, 3,\n",
       "       0, 0, 4, 3, 3, 5, 1, 5, 6, 2, 1, 0, 2, 6, 0, 1, 1, 2, 0, 0, 3, 3,\n",
       "       6, 3, 4, 1, 0, 4, 1, 5, 3, 4, 2, 6, 3, 0, 4, 2, 6, 3, 5, 1, 6, 1,\n",
       "       0, 1, 4, 6, 5, 2, 3, 4, 3, 2, 3, 4, 6, 0, 6, 3, 3, 4, 0, 2, 6, 6,\n",
       "       0, 2, 0, 2, 6, 1, 3, 6, 2, 2, 4, 2, 5, 2, 6, 5, 0, 2, 3, 0, 0, 0,\n",
       "       5, 3, 4, 6, 6, 5, 3, 3, 4, 0, 5, 4, 3, 3, 5, 4, 2, 6, 5, 1, 0, 1,\n",
       "       2, 6, 3, 3, 0, 0, 5, 0, 1, 6, 0, 0, 5, 5, 5, 5, 1, 2, 3, 5, 3, 1,\n",
       "       4, 2, 4, 0, 1, 0, 4, 6, 4, 2, 0, 6, 2, 5, 2, 5, 4, 1, 3, 1, 3, 0,\n",
       "       2, 6, 0, 0, 2, 0, 3, 6, 6, 6, 2, 3, 1, 6, 0, 1, 3, 5, 5, 3, 3, 4,\n",
       "       5, 3, 6, 2, 5, 1, 0, 1, 2, 1, 2, 3, 2, 3, 0, 3, 5, 5, 4, 1, 4, 3,\n",
       "       3, 6, 2, 6, 5, 2, 0, 0, 0, 5, 6, 2, 3, 3, 3, 1, 2, 3, 6, 2, 3, 6,\n",
       "       1, 2, 2, 3, 1, 1, 3, 4, 6, 0, 5, 3, 4, 3, 2, 1, 0, 4, 0, 1, 6, 5,\n",
       "       5, 4, 3, 3, 1, 2, 6, 4, 1, 6, 3, 2, 3, 3, 6, 3, 5, 3, 2, 3, 5, 3,\n",
       "       4, 4, 0, 3, 5, 5, 6, 5, 2, 6, 3, 5, 3, 3, 4, 3, 4, 3, 4, 3, 5, 1,\n",
       "       4, 1, 5, 1, 6, 4, 3, 3, 6, 1, 1, 4, 3, 4, 3, 3, 2, 3, 1, 3, 6, 1,\n",
       "       3, 1, 5, 3, 0, 2, 1, 4, 1, 1, 6, 5, 6, 0, 2, 2, 5, 3, 5, 5, 0, 0,\n",
       "       3, 1, 6, 3, 3, 0, 6, 0, 1, 0, 1, 2, 6, 0, 0, 3, 2, 6, 4, 0, 1, 4,\n",
       "       2, 0, 4, 3, 2, 3, 1, 2, 1, 3, 3, 2, 5, 5, 2, 4, 2, 3, 6, 3, 3, 4,\n",
       "       1, 4, 3, 3, 3, 3, 3, 0, 6, 3, 3, 1, 3, 1, 4, 1, 5, 3, 5, 6, 3, 6,\n",
       "       0, 3, 4, 4, 3, 3, 3, 6, 6, 3, 3, 3, 3, 1, 3, 3, 4, 4, 4, 4, 3, 3,\n",
       "       4, 4, 0, 3, 5, 2, 3, 6, 6, 3, 6, 4, 5, 5, 2, 4, 5, 5, 2, 3, 1, 6,\n",
       "       1, 5, 3, 5, 4, 4, 6, 5, 4, 2, 3, 6, 4, 3, 0, 4, 2, 3])"
      ]
     },
     "execution_count": 136,
     "metadata": {},
     "output_type": "execute_result"
    }
   ],
   "source": [
    "y"
   ]
  },
  {
   "cell_type": "code",
   "execution_count": 138,
   "id": "23427929",
   "metadata": {},
   "outputs": [],
   "source": [
    "import pickle\n",
    "\n",
    "pickle_in = open(\"X.pickle\",\"rb\")\n",
    "X = pickle.load(pickle_in)\n",
    "\n",
    "pickle_in = open(\"y.pickle\",\"rb\")\n",
    "y = pickle.load(pickle_in)"
   ]
  },
  {
   "cell_type": "code",
   "execution_count": null,
   "id": "b078d43d",
   "metadata": {},
   "outputs": [],
   "source": []
  }
 ],
 "metadata": {
  "kernelspec": {
   "display_name": "Python 3",
   "language": "python",
   "name": "python3"
  },
  "language_info": {
   "codemirror_mode": {
    "name": "ipython",
    "version": 3
   },
   "file_extension": ".py",
   "mimetype": "text/x-python",
   "name": "python",
   "nbconvert_exporter": "python",
   "pygments_lexer": "ipython3",
   "version": "3.8.8"
  }
 },
 "nbformat": 4,
 "nbformat_minor": 5
}
